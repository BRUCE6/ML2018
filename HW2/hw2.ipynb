{
 "cells": [
  {
   "cell_type": "code",
   "execution_count": 259,
   "metadata": {},
   "outputs": [],
   "source": [
    "class knn_classifier():\n",
    "    def __init__(self):\n",
    "        self.data = []\n",
    "    \n",
    "    \n",
    "    def fit(self, filename):\n",
    "        with open(filename, 'r') as f:\n",
    "            content = f.read()\n",
    "            lines = content.split('\\n')\n",
    "            for line in lines:\n",
    "                if line:\n",
    "                    y, sen = int(line[0]), line[2:]\n",
    "                    self.data.append((sen, y))\n",
    "    \n",
    "    def fit_lines(self, lines):\n",
    "        for line in lines:\n",
    "            if line:\n",
    "                y, sen = int(line[0]), line[2:]\n",
    "                self.data.append((sen, y))\n",
    "                \n",
    "    def predict(self, sen, k = 1, func = 'intersect'):\n",
    "        dsts = []\n",
    "        for i, (sen_i, y) in enumerate(self.data):\n",
    "            dsts.append((y, self._distance(sen_i, sen, func = func)))\n",
    "        dsts.sort(key = lambda x: x[-1])\n",
    "        min_d = dsts[k - 1][-1]\n",
    "        num_ones = sum([y for y, d in dsts[:k]])\n",
    "        total = k\n",
    "        for y, d in dsts[k:]:\n",
    "            if d == min_d:\n",
    "                num_ones += y\n",
    "                total += 1\n",
    "            else:\n",
    "                break\n",
    "        if num_ones >= total / 2:\n",
    "            return 1\n",
    "        else:\n",
    "            return 0\n",
    "    \n",
    "    \n",
    "    def _buildSet(self, sen):\n",
    "        s = set()\n",
    "        for w in sen.split():\n",
    "            s.add(w)\n",
    "        return s\n",
    "    \n",
    "    \n",
    "    def _buildDict(self, sen):\n",
    "        d = {}\n",
    "        for w in sen.split():\n",
    "            d[w] = d.get(w, 0) + 1\n",
    "        norm = sum([v ** 2 for v in d.values()]) ** (1/2)\n",
    "        for k in d:\n",
    "            d[k] /= norm\n",
    "        return d\n",
    "    \n",
    "    \n",
    "    def _distance(self, sen1, sen2, func = 'intersect'):\n",
    "        if func == 'intersect':\n",
    "            s1, s2 = self._buildSet(sen1), self._buildSet(sen2)\n",
    "            inter = len(s1 & s2)\n",
    "            if not inter:\n",
    "                return float('inf')\n",
    "            return 1 / inter\n",
    "        if func == 'cosine':\n",
    "            d1, d2 = self._buildDict(sen1), self._buildDict(sen2)\n",
    "            res = 0\n",
    "            for w in d1.keys():\n",
    "                res += d1[w] * d2.get(w, 0)\n",
    "            return 1 - res"
   ]
  },
  {
   "cell_type": "code",
   "execution_count": 97,
   "metadata": {},
   "outputs": [],
   "source": [
    "test_data = []\n",
    "with open('reviewstest.txt', 'r') as f:\n",
    "    content = f.read()\n",
    "    lines = content.split('\\n')\n",
    "    for line in lines:\n",
    "        if line:\n",
    "            y, sen = int(line[0]), line[2:]\n",
    "            test_data.append((sen, y))"
   ]
  },
  {
   "cell_type": "code",
   "execution_count": 260,
   "metadata": {},
   "outputs": [],
   "source": [
    "def statistics_knn(k, func):\n",
    "    KNN = knn_classifier()\n",
    "    KNN.fit('reviewstrain.txt')\n",
    "    acc = 0\n",
    "    TP, FP, TN, FN = 0, 0, 0, 0\n",
    "    for i, (sen, y) in enumerate(test_data):\n",
    "#         if i == 17:\n",
    "#             print(sen, KNN.predict(sen, k = k), y)\n",
    "        predict = KNN.predict(sen, k = k, func = func)\n",
    "        if predict == y:\n",
    "            if predict == 1:\n",
    "                TP += 1\n",
    "            else:\n",
    "                TN += 1\n",
    "            acc += 1\n",
    "        else:\n",
    "            if predict == 1:\n",
    "                FP += 1\n",
    "            else:\n",
    "                FN += 1\n",
    "    acc /= len(test_data)\n",
    "    print('TP, FP, TN, FN', TP, FP, TN, FN)\n",
    "    print('accuracy', acc)"
   ]
  },
  {
   "cell_type": "code",
   "execution_count": 230,
   "metadata": {},
   "outputs": [],
   "source": [
    "with open('reviewstrain.txt', 'r') as f:\n",
    "    content = f.read()\n",
    "    all_lines = content.split('\\n')\n",
    "all_lines = [line for line in all_lines if line]"
   ]
  },
  {
   "cell_type": "code",
   "execution_count": 232,
   "metadata": {},
   "outputs": [
    {
     "name": "stdout",
     "output_type": "stream",
     "text": [
      "k 3 accuracy 0.66\n",
      "k 7 accuracy 0.658\n",
      "k 99 accuracy 0.612\n"
     ]
    }
   ],
   "source": [
    "list_k = [3, 7, 99]\n",
    "for k in list_k:\n",
    "    num_folds = 5\n",
    "    step = len(all_lines) // num_folds\n",
    "    acc = 0\n",
    "    for i in range(num_folds):\n",
    "        if i < num_folds - 1:\n",
    "            val_lines = all_lines[step * i: step * (i + 1)]\n",
    "            train_lines = all_lines[:step * i] + all_lines[step * (i + 1):]\n",
    "        else:\n",
    "            val_lines = all_lines[step * i:]\n",
    "            train_lines = all_lines[:step * i]\n",
    "        KNN = knn_classifier()\n",
    "        KNN.fit_lines(train_lines)\n",
    "        for line in val_lines:\n",
    "            y, sen = int(line[0]), line[2:]\n",
    "            predict = KNN.predict(sen, k = k)\n",
    "            acc += int(predict == y)\n",
    "    print('k', k, 'accuracy', acc / len(all_lines))"
   ]
  },
  {
   "cell_type": "code",
   "execution_count": 264,
   "metadata": {},
   "outputs": [
    {
     "name": "stdout",
     "output_type": "stream",
     "text": [
      "TP, FP, TN, FN 209 134 93 64\n",
      "accuracy 0.604\n"
     ]
    }
   ],
   "source": [
    "statistics_knn(1, 'intersect')"
   ]
  },
  {
   "cell_type": "code",
   "execution_count": 262,
   "metadata": {},
   "outputs": [
    {
     "name": "stdout",
     "output_type": "stream",
     "text": [
      "TP, FP, TN, FN 186 114 113 87\n",
      "accuracy 0.598\n"
     ]
    }
   ],
   "source": [
    "statistics_knn(1, 'cosine')"
   ]
  },
  {
   "cell_type": "code",
   "execution_count": 265,
   "metadata": {},
   "outputs": [
    {
     "name": "stdout",
     "output_type": "stream",
     "text": [
      "TP, FP, TN, FN 197 120 107 76\n",
      "accuracy 0.608\n"
     ]
    }
   ],
   "source": [
    "statistics_knn(5, 'cosine')`b"
   ]
  }
 ],
 "metadata": {
  "kernelspec": {
   "display_name": "Python 3",
   "language": "python",
   "name": "python3"
  },
  "language_info": {
   "codemirror_mode": {
    "name": "ipython",
    "version": 3
   },
   "file_extension": ".py",
   "mimetype": "text/x-python",
   "name": "python",
   "nbconvert_exporter": "python",
   "pygments_lexer": "ipython3",
   "version": "3.6.4"
  }
 },
 "nbformat": 4,
 "nbformat_minor": 2
}
